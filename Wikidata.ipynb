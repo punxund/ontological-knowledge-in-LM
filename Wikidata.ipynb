{
 "cells": [
  {
   "cell_type": "code",
   "execution_count": 1,
   "metadata": {},
   "outputs": [
    {
     "name": "stdout",
     "output_type": "stream",
     "text": [
      "START\n",
      "End\n"
     ]
    }
   ],
   "source": [
    "readFile = 'wikidata-label.nt'\n",
    "f = open(readFile, 'r')\n",
    "print('START')\n",
    "\n",
    "label_dict = {}\n",
    "\n",
    "for line in f:\n",
    "    arr = line.split()\n",
    "    if len(arr) == 4 : \n",
    "        label_name = arr[2].rstrip('@en')\n",
    "    elif len(arr) == 5 : \n",
    "        label_name = arr[2] + ' ' + arr[3].rstrip('@en')\n",
    "    elif len(arr) == 6 : \n",
    "        label_name = arr[2] + ' ' + arr[3] + ' ' + arr[4].rstrip('@en')\n",
    "    elif len(arr) == 6 : \n",
    "        label_name = arr[2] + ' ' + arr[3] + ' ' + arr[4] + ' ' + arr[5].rstrip('@en')\n",
    "    label_dict[arr[0]] = label_name.encode('utf-8').decode('unicode-escape').strip('\"')\n",
    "\n",
    "f.close()\n",
    "print('End')\n"
   ]
  },
  {
   "cell_type": "code",
   "execution_count": 11,
   "metadata": {},
   "outputs": [
    {
     "name": "stdout",
     "output_type": "stream",
     "text": [
      "START\n"
     ]
    },
    {
     "data": {
      "application/vnd.jupyter.widget-view+json": {
       "model_id": "cbdda24037684166b4657ac4fc73b5b6",
       "version_major": 2,
       "version_minor": 0
      },
      "text/plain": [
       "HBox(children=(HTML(value=''), FloatProgress(value=1.0, bar_style='info', layout=Layout(width='20px'), max=1.0…"
      ]
     },
     "metadata": {},
     "output_type": "display_data"
    },
    {
     "name": "stdout",
     "output_type": "stream",
     "text": [
      "\n",
      "End\n"
     ]
    }
   ],
   "source": [
    "import nltk\n",
    "from nltk.corpus import wordnet\n",
    "from collections import Counter\n",
    "from tqdm import notebook\n",
    "\n",
    "readFile = 'wikidata-20200206-truthy-noLiterals-withLabels.json'\n",
    "f = open(readFile, 'r')\n",
    "print('START')\n",
    "entity_dict = {}\n",
    "counter = Counter()\n",
    "\"\"\"\n",
    "lineprogress = 0\n",
    "lineprogress += 1\n",
    "    if lineprogress == 10000000: \n",
    "        break\n",
    "\"\"\"\n",
    "\"\"\"\n",
    "for line in f:\n",
    "    arr2 = line.split()\n",
    "    if arr2[1] == '<http://www.wikidata.org/prop/direct/P31>' :\n",
    "        array = [arr2[0]]\n",
    "    counter.update(array)\n",
    "print(counter.most_common(10))\n",
    "\"\"\"\n",
    "for line in notebook.tqdm(f):\n",
    "    arr3 = line.split()\n",
    "    if label_dict[arr3[0]] not in entity_dict :\n",
    "        entity_dict[label_dict[arr3[0]]] = set()\n",
    "    if arr3[1] == '<http://www.wikidata.org/prop/direct/P31>' or '<http://www.wikidata.org/prop/direct/P279>' :\n",
    "        object = label_dict[arr3[2]].split()\n",
    "        for i in range(len(object)) :\n",
    "            entity_dict[label_dict[arr3[0]]].add(object[i])\n",
    "            for syn in wordnet.synsets(object[i], pos='n'):\n",
    "                for l in syn.lemmas():\n",
    "                    if '_' not in l.name() :\n",
    "                        entity_dict[label_dict[arr3[0]]].add(l.name())\n",
    "\n",
    "f.close()\n",
    "\n",
    "    \n",
    "print('End')"
   ]
  },
  {
   "cell_type": "code",
   "execution_count": 12,
   "metadata": {},
   "outputs": [],
   "source": [
    "for key, value in entity_dict.items():\n",
    "    entity_dict[key] = list(value)"
   ]
  },
  {
   "cell_type": "code",
   "execution_count": 13,
   "metadata": {
    "scrolled": true
   },
   "outputs": [
    {
     "name": "stdout",
     "output_type": "stream",
     "text": [
      "['constituent', 'factor', 'clause', 'goreng', 'cereal', 'basic', 'Zizania', 'figure', 'Category:Rice', 'element', 'grain', 'Oryza', 'amylum', 'component', 'starch', 'fixings', 'name', 'nasi', 'commons', 'ingredient', 'nutrient', 'porridge', 'risotto', 'caryopsis', 'frikadeller', 'Wikipedia:Vital', 'articles', 'green', 'sativa', 'common', 'food', 'rice', 'gens', 'epithet', 'park', 'article', 'Rice', 'staple']\n"
     ]
    }
   ],
   "source": [
    "print(entity_dict['rice'])"
   ]
  },
  {
   "cell_type": "code",
   "execution_count": 14,
   "metadata": {},
   "outputs": [],
   "source": [
    "import json\n",
    "\n",
    "with open('wikidata_P31_P279.json', 'w') as fp:\n",
    "    json.dump(entity_dict, fp)"
   ]
  },
  {
   "cell_type": "code",
   "execution_count": null,
   "metadata": {},
   "outputs": [],
   "source": []
  }
 ],
 "metadata": {
  "kernelspec": {
   "display_name": "Python 3",
   "language": "python",
   "name": "python3"
  },
  "language_info": {
   "codemirror_mode": {
    "name": "ipython",
    "version": 3
   },
   "file_extension": ".py",
   "mimetype": "text/x-python",
   "name": "python",
   "nbconvert_exporter": "python",
   "pygments_lexer": "ipython3",
   "version": "3.8.3"
  }
 },
 "nbformat": 4,
 "nbformat_minor": 4
}
