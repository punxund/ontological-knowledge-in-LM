{
 "cells": [
  {
   "cell_type": "code",
   "execution_count": 1,
   "metadata": {},
   "outputs": [
    {
     "name": "stdout",
     "output_type": "stream",
     "text": [
      "Requirement already satisfied: transformers in ./anaconda3/lib/python3.8/site-packages (3.5.0)\n",
      "Requirement already satisfied: protobuf in ./anaconda3/lib/python3.8/site-packages (from transformers) (3.13.0)\n",
      "Requirement already satisfied: tokenizers==0.9.3 in ./anaconda3/lib/python3.8/site-packages (from transformers) (0.9.3)\n",
      "Requirement already satisfied: packaging in ./anaconda3/lib/python3.8/site-packages (from transformers) (20.4)\n",
      "Requirement already satisfied: tqdm>=4.27 in ./anaconda3/lib/python3.8/site-packages (from transformers) (4.54.1)\n",
      "Requirement already satisfied: regex!=2019.12.17 in ./anaconda3/lib/python3.8/site-packages (from transformers) (2020.6.8)\n",
      "Requirement already satisfied: sentencepiece==0.1.91 in ./anaconda3/lib/python3.8/site-packages (from transformers) (0.1.91)\n",
      "Requirement already satisfied: numpy in ./anaconda3/lib/python3.8/site-packages (from transformers) (1.15.1)\n",
      "Requirement already satisfied: requests in ./anaconda3/lib/python3.8/site-packages (from transformers) (2.24.0)\n",
      "Requirement already satisfied: sacremoses in ./anaconda3/lib/python3.8/site-packages (from transformers) (0.0.43)\n",
      "Requirement already satisfied: filelock in ./anaconda3/lib/python3.8/site-packages (from transformers) (3.0.12)\n",
      "Requirement already satisfied: setuptools in ./anaconda3/lib/python3.8/site-packages (from protobuf->transformers) (49.2.0.post20200714)\n",
      "Requirement already satisfied: six>=1.9 in ./anaconda3/lib/python3.8/site-packages (from protobuf->transformers) (1.15.0)\n",
      "Requirement already satisfied: pyparsing>=2.0.2 in ./anaconda3/lib/python3.8/site-packages (from packaging->transformers) (2.4.7)\n",
      "Requirement already satisfied: certifi>=2017.4.17 in ./anaconda3/lib/python3.8/site-packages (from requests->transformers) (2020.6.20)\n",
      "Requirement already satisfied: idna<3,>=2.5 in ./anaconda3/lib/python3.8/site-packages (from requests->transformers) (2.10)\n",
      "Requirement already satisfied: urllib3!=1.25.0,!=1.25.1,<1.26,>=1.21.1 in ./anaconda3/lib/python3.8/site-packages (from requests->transformers) (1.25.9)\n",
      "Requirement already satisfied: chardet<4,>=3.0.2 in ./anaconda3/lib/python3.8/site-packages (from requests->transformers) (3.0.4)\n",
      "Requirement already satisfied: click in ./anaconda3/lib/python3.8/site-packages (from sacremoses->transformers) (7.1.2)\n",
      "Requirement already satisfied: joblib in ./anaconda3/lib/python3.8/site-packages (from sacremoses->transformers) (0.16.0)\n",
      "\u001b[33mWARNING: Keyring is skipped due to an exception: Failed to unlock the collection!\u001b[0m\n",
      "\u001b[33mWARNING: Keyring is skipped due to an exception: Failed to unlock the collection!\u001b[0m\n",
      "\u001b[33mWARNING: Keyring is skipped due to an exception: Failed to unlock the collection!\u001b[0m\n",
      "\u001b[33mWARNING: Keyring is skipped due to an exception: Failed to unlock the collection!\u001b[0m\n",
      "Collecting numpy\n",
      "\u001b[33m  WARNING: Keyring is skipped due to an exception: Failed to unlock the collection!\u001b[0m\n",
      "  Downloading numpy-1.19.5-cp38-cp38-manylinux2010_x86_64.whl (14.9 MB)\n",
      "\u001b[K     |████████████████████████████████| 14.9 MB 4.2 MB/s eta 0:00:01\n",
      "\u001b[31mERROR: tensorflow 2.3.1 has requirement numpy<1.19.0,>=1.16.0, but you'll have numpy 1.19.5 which is incompatible.\u001b[0m\n",
      "\u001b[31mERROR: allennlp 0.8.5 has requirement torch<1.2,>=0.4.1, but you'll have torch 1.7.1 which is incompatible.\u001b[0m\n",
      "\u001b[?25hInstalling collected packages: numpy\n",
      "  Attempting uninstall: numpy\n",
      "    Found existing installation: numpy 1.15.1\n",
      "    Uninstalling numpy-1.15.1:\n",
      "      Successfully uninstalled numpy-1.15.1\n",
      "Successfully installed numpy-1.19.5\n"
     ]
    }
   ],
   "source": [
    "!pip install transformers\n",
    "!pip install numpy --upgrade"
   ]
  },
  {
   "cell_type": "code",
   "execution_count": 1,
   "metadata": {},
   "outputs": [
    {
     "name": "stderr",
     "output_type": "stream",
     "text": [
      "Some weights of the model checkpoint at bert-base-uncased were not used when initializing BertForMaskedLM: ['cls.seq_relationship.weight', 'cls.seq_relationship.bias']\n",
      "- This IS expected if you are initializing BertForMaskedLM from the checkpoint of a model trained on another task or with another architecture (e.g. initializing a BertForSequenceClassification model from a BertForPreTraining model).\n",
      "- This IS NOT expected if you are initializing BertForMaskedLM from the checkpoint of a model that you expect to be exactly identical (initializing a BertForSequenceClassification model from a BertForSequenceClassification model).\n"
     ]
    }
   ],
   "source": [
    "import torch\n",
    "import string\n",
    "\n",
    "from transformers import BertTokenizer, BertForMaskedLM\n",
    "bert_tokenizer = BertTokenizer.from_pretrained('bert-base-uncased')\n",
    "bert_model = BertForMaskedLM.from_pretrained('bert-base-uncased').eval()\n"
   ]
  },
  {
   "cell_type": "code",
   "execution_count": 2,
   "metadata": {},
   "outputs": [],
   "source": [
    "def decode(tokenizer, pred_idx):\n",
    "    ignore_tokens = string.punctuation + '[PAD]'\n",
    "    tokens = []\n",
    "    for w in pred_idx:\n",
    "        token = ''.join(tokenizer.decode(w).split())\n",
    "        if token not in ignore_tokens:\n",
    "            tokens.append(token.replace('##', ''))\n",
    "    return tokens\n",
    "\n",
    "\n",
    "def encode(tokenizer, text_sentence, add_special_tokens=True):\n",
    "    text_sentence = text_sentence.replace('<mask>', tokenizer.mask_token)\n",
    "    if tokenizer.mask_token == text_sentence.split()[-1]:\n",
    "        text_sentence += ' .'\n",
    "\n",
    "    input_ids = torch.tensor([tokenizer.encode(text_sentence, add_special_tokens=add_special_tokens)])\n",
    "    mask_idx = torch.where(input_ids == tokenizer.mask_token_id)[1].tolist()[0]\n",
    "    return input_ids, mask_idx\n"
   ]
  },
  {
   "cell_type": "code",
   "execution_count": 84,
   "metadata": {},
   "outputs": [],
   "source": [
    "predicate = [ \n",
    "' is a',\n",
    "#' is an',\n",
    "#' has class',\n",
    "#' has type',\n",
    "#' is a particular',\n",
    "#' is a specific',\n",
    "#' is an individual',\n",
    "#' is a unique',\n",
    "#' is an example of',\n",
    "#' has superclass',\n",
    "#' is also a',\n",
    "#' subtype of',\n",
    "#' is a subtype of',\n",
    "#' subcategory of',\n",
    "#' is a category of',\n",
    "#' is thereby also a',\n",
    "#' is necessarily also a'\n",
    "]\n",
    "\n"
   ]
  },
  {
   "cell_type": "code",
   "execution_count": 83,
   "metadata": {},
   "outputs": [],
   "source": [
    "import json\n",
    "\n",
    "with open('wikidata_P31.json', 'r') as wiki:\n",
    "    wikidata = json.load(wiki)"
   ]
  },
  {
   "cell_type": "code",
   "execution_count": 90,
   "metadata": {
    "scrolled": true
   },
   "outputs": [
    {
     "data": {
      "application/vnd.jupyter.widget-view+json": {
       "model_id": "58874dfe0a01487b9042c94069955b77",
       "version_major": 2,
       "version_minor": 0
      },
      "text/plain": [
       "HBox(children=(HTML(value=''), FloatProgress(value=0.0, max=33.0), HTML(value='')))"
      ]
     },
     "metadata": {},
     "output_type": "display_data"
    },
    {
     "name": "stdout",
     "output_type": "stream",
     "text": [
      "\n",
      "0.967741935483871\n",
      "16.06451612903226\n",
      "1.0\n",
      "0.967741935483871\n",
      "0.06060755667704134\n"
     ]
    },
    {
     "data": {
      "application/vnd.jupyter.widget-view+json": {
       "model_id": "aa4205235f5942fcb8b39ae1be9699eb",
       "version_major": 2,
       "version_minor": 0
      },
      "text/plain": [
       "HBox(children=(HTML(value=''), FloatProgress(value=0.0, max=33.0), HTML(value='')))"
      ]
     },
     "metadata": {},
     "output_type": "display_data"
    },
    {
     "name": "stdout",
     "output_type": "stream",
     "text": [
      "\n",
      "1.0\n",
      "16.06451612903226\n",
      "3.0\n",
      "0.33333333333333337\n",
      "0.06239967137238184\n"
     ]
    },
    {
     "data": {
      "application/vnd.jupyter.widget-view+json": {
       "model_id": "6af673ba68d542f68a6d7fcbfb651447",
       "version_major": 2,
       "version_minor": 0
      },
      "text/plain": [
       "HBox(children=(HTML(value=''), FloatProgress(value=0.0, max=33.0), HTML(value='')))"
      ]
     },
     "metadata": {},
     "output_type": "display_data"
    },
    {
     "name": "stdout",
     "output_type": "stream",
     "text": [
      "\n",
      "1.064516129032258\n",
      "16.06451612903226\n",
      "5.0\n",
      "0.2129032258064517\n",
      "0.06967354866523447\n"
     ]
    },
    {
     "data": {
      "application/vnd.jupyter.widget-view+json": {
       "model_id": "87257411484d4f69a25b6814141f4efa",
       "version_major": 2,
       "version_minor": 0
      },
      "text/plain": [
       "HBox(children=(HTML(value=''), FloatProgress(value=0.0, max=33.0), HTML(value='')))"
      ]
     },
     "metadata": {},
     "output_type": "display_data"
    },
    {
     "name": "stdout",
     "output_type": "stream",
     "text": [
      "\n",
      "1.096774193548387\n",
      "16.06451612903226\n",
      "7.0\n",
      "0.15668202764976957\n",
      "0.07157108187206558\n"
     ]
    },
    {
     "data": {
      "application/vnd.jupyter.widget-view+json": {
       "model_id": "557dc848a6324de0b01ce7d035261553",
       "version_major": 2,
       "version_minor": 0
      },
      "text/plain": [
       "HBox(children=(HTML(value=''), FloatProgress(value=0.0, max=33.0), HTML(value='')))"
      ]
     },
     "metadata": {},
     "output_type": "display_data"
    },
    {
     "name": "stdout",
     "output_type": "stream",
     "text": [
      "\n",
      "1.1612903225806452\n",
      "16.06451612903226\n",
      "10.0\n",
      "0.11612903225806456\n",
      "0.07518789516629823\n"
     ]
    },
    {
     "data": {
      "image/png": "[encoded data removed]",
      "text/plain": [
       "<Figure size 432x288 with 1 Axes>"
      ]
     },
     "metadata": {
      "needs_background": "light"
     },
     "output_type": "display_data"
    }
   ],
   "source": [
    "import random \n",
    "from tqdm import notebook\n",
    "\n",
    "testcount = 0\n",
    "countlist = []\n",
    "LM_count = []\n",
    "WK_count = []\n",
    "precisionlist = []\n",
    "recalllist = []\n",
    "#r_wiki = random.sample(list(wikidata.items()), 10000)\n",
    "#randomwiki = dict(r_wiki)\n",
    "randomwiki = cola\n",
    "token = [1,3,5,7,10]\n",
    "avg_precision =[]\n",
    "avg_recall = []\n",
    "\n",
    "for t in token:\n",
    "    countlist = []\n",
    "    LM_count = []\n",
    "    WK_count = []\n",
    "    precisionlist = []\n",
    "    recalllist = []\n",
    "    for key in notebook.tqdm(randomwiki.keys()):\n",
    "        #print(key)\n",
    "        #print(randomwiki[key])\n",
    "        if randomwiki[key] == [] :\n",
    "            continue\n",
    "        bertlist = set()\n",
    "        for i in range(len(predicate)) :\n",
    "            text_sentence = str(key) + predicate[i] + ' <mask>.'\n",
    "            input_ids, mask_idx = encode(bert_tokenizer, text_sentence)\n",
    "\n",
    "            with torch.no_grad():\n",
    "                predict = bert_model(input_ids)[0]\n",
    "\n",
    "            bert = decode(bert_tokenizer, predict[0, mask_idx, :].topk(10).indices.tolist())[:t]\n",
    "            for k in range(len(bert)) :\n",
    "                if bert[k] not in ['this','a','b','c','es','ii','iii'] :\n",
    "                    bertlist.add(bert[k])\n",
    "    \n",
    "        bertlist = list(bertlist)\n",
    "        LM_count.append(len(bertlist))\n",
    "        WK_count.append(len(randomwiki[key]))\n",
    "            \n",
    "        count = 0\n",
    "        for j in range(len(bertlist)) :\n",
    "            if bertlist[j] in randomwiki[key] :\n",
    "                #print(bertlist[j])\n",
    "                count += 1\n",
    "        countlist.append(count)        \n",
    "            \n",
    "        if len(randomwiki[key]) and len(bertlist) != 0 :\n",
    "            precision = count/len(bertlist)\n",
    "            recall = count/len(randomwiki[key])\n",
    "            precisionlist.append(precision)\n",
    "            recalllist.append(recall)\n",
    "                  \n",
    "        #print(count)\n",
    "        #print(bertlist)\n",
    "        #print(recall)\n",
    "        #print(precision)\n",
    "        #print(countlist)\n",
    "    \n",
    "        #testcount += 1\n",
    "        #if testcount == 100:\n",
    "        #   break\n",
    "        \n",
    "    AVG_LMxWK = sum(countlist, 0.0)/len(countlist)\n",
    "    print(AVG_LMxWK)\n",
    "    AVG_WKlist = sum(WK_count, 0.0)/len(WK_count)\n",
    "    print(AVG_WKlist)\n",
    "    AVG_LMlist = sum(LM_count, 0.0)/len(LM_count)\n",
    "    print(AVG_LMlist)\n",
    "\n",
    "    AVG_Precision = sum(precisionlist, 0.0)/len(precisionlist)\n",
    "    avg_precision.append(AVG_Precision)\n",
    "    print(AVG_Precision)\n",
    "    AVG_Recall = sum(recalllist, 0.0)/len(recalllist)\n",
    "    avg_recall.append(AVG_Recall)\n",
    "    print(AVG_Recall)\n",
    "    \n",
    "import matplotlib.pyplot as plt\n",
    "\n",
    "x=token\n",
    "y=avg_precision\n",
    "z=avg_recall\n",
    "plt.scatter(x,y)\n",
    "plt.scatter(x,z)\n",
    "plt.plot(x,y, label='AVG_Precision')\n",
    "plt.plot(x,z, label='AVG_Recall')\n",
    "plt.legend(loc=2)\n",
    "plt.xlabel('Token')\n",
    "plt.savefig(\"precision_recall_abc.png\")\n",
    "plt.show()"
   ]
  },
  {
   "cell_type": "code",
   "execution_count": 75,
   "metadata": {},
   "outputs": [
    {
     "ename": "KeyboardInterrupt",
     "evalue": "",
     "output_type": "error",
     "traceback": [
      "\u001b[0;31m---------------------------------------------------------------------------\u001b[0m",
      "\u001b[0;31mKeyboardInterrupt\u001b[0m                         Traceback (most recent call last)",
      "\u001b[0;32m<ipython-input-75-c6031fb80a6e>\u001b[0m in \u001b[0;36m<module>\u001b[0;34m\u001b[0m\n\u001b[1;32m     14\u001b[0m \u001b[0mpola\u001b[0m \u001b[0;34m=\u001b[0m \u001b[0;34m{\u001b[0m\u001b[0;34m}\u001b[0m\u001b[0;34m\u001b[0m\u001b[0;34m\u001b[0m\u001b[0m\n\u001b[1;32m     15\u001b[0m \u001b[0;32mfor\u001b[0m \u001b[0mkey\u001b[0m\u001b[0;34m,\u001b[0m \u001b[0mvalue\u001b[0m \u001b[0;32min\u001b[0m \u001b[0mwikidata\u001b[0m\u001b[0;34m.\u001b[0m\u001b[0mitems\u001b[0m\u001b[0;34m(\u001b[0m\u001b[0;34m)\u001b[0m\u001b[0;34m:\u001b[0m\u001b[0;34m\u001b[0m\u001b[0;34m\u001b[0m\u001b[0m\n\u001b[0;32m---> 16\u001b[0;31m     \u001b[0;32mif\u001b[0m \u001b[0mkey\u001b[0m \u001b[0;32min\u001b[0m \u001b[0mpopular\u001b[0m \u001b[0;34m:\u001b[0m\u001b[0;34m\u001b[0m\u001b[0;34m\u001b[0m\u001b[0m\n\u001b[0m\u001b[1;32m     17\u001b[0m         \u001b[0mpola\u001b[0m\u001b[0;34m[\u001b[0m\u001b[0mkey\u001b[0m\u001b[0;34m]\u001b[0m \u001b[0;34m=\u001b[0m \u001b[0mvalue\u001b[0m\u001b[0;34m\u001b[0m\u001b[0;34m\u001b[0m\u001b[0m\n\u001b[1;32m     18\u001b[0m \u001b[0;31m#print(pola)\u001b[0m\u001b[0;34m\u001b[0m\u001b[0;34m\u001b[0m\u001b[0;34m\u001b[0m\u001b[0m\n",
      "\u001b[0;31mKeyboardInterrupt\u001b[0m: "
     ]
    }
   ],
   "source": [
    "readFile = 'popular.txt'\n",
    "f = open(readFile, 'r')\n",
    "popular = []\n",
    "count = 0\n",
    "for line in f:\n",
    "    arr = line.split()\n",
    "    del arr[-1]\n",
    "    StrA = \" \".join(arr)\n",
    "    popular.append(StrA)\n",
    "    count += 1\n",
    "#print(popular)\n",
    "#print(count)\n",
    "\n",
    "pola = {}\n",
    "for key, value in wikidata.items():\n",
    "    if key in popular :\n",
    "        pola[key] = value\n",
    "#print(pola)"
   ]
  },
  {
   "cell_type": "code",
   "execution_count": 89,
   "metadata": {},
   "outputs": [
    {
     "name": "stdout",
     "output_type": "stream",
     "text": [
      "38\n"
     ]
    },
    {
     "data": {
      "application/vnd.jupyter.widget-view+json": {
       "model_id": "3d88b36794b940a7842915ab71f34972",
       "version_major": 2,
       "version_minor": 0
      },
      "text/plain": [
       "HBox(children=(HTML(value=''), FloatProgress(value=0.0, max=22170922.0), HTML(value='')))"
      ]
     },
     "metadata": {},
     "output_type": "display_data"
    },
    {
     "name": "stdout",
     "output_type": "stream",
     "text": [
      "\n"
     ]
    }
   ],
   "source": [
    "from tqdm import notebook\n",
    "\n",
    "readFile = 'sport.txt'\n",
    "f = open(readFile, 'r')\n",
    "country = []\n",
    "count = 0\n",
    "for line in f:\n",
    "    country.append(line[:-1].lower()) #.lower()\n",
    "    count += 1\n",
    "#print(country)\n",
    "print(count)\n",
    "\n",
    "cola = {}\n",
    "for key, value in notebook.tqdm(wikidata.items()):\n",
    "    if key in country :\n",
    "        cola[key] = value\n",
    "#print(cola)"
   ]
  },
  {
   "cell_type": "code",
   "execution_count": 71,
   "metadata": {},
   "outputs": [
    {
     "name": "stdout",
     "output_type": "stream",
     "text": [
      "{'Badminton': [], 'Sailing': [], 'Tennis': [], 'Baseball': [], 'Basketball': [], 'Boxing': [], 'Golf': [], 'Football': [], 'Archery': [], 'Triathlon': [], 'Equestrian': [], 'Fencing': [], 'Handball': [], 'Wrestling': [], 'Judo': [], 'Aquatics': [], 'Softball': [], 'Karate': [], 'Taekwondo': [], 'Volleyball': [], 'Canoeing': [], 'Surfing': [], 'Rowing': [], 'Gymnastics': [], 'Shooting': [], 'Cycling': [], 'Athletics': [], 'Weightlifting': []}\n"
     ]
    }
   ],
   "source": [
    "print(cola)"
   ]
  },
  {
   "cell_type": "code",
   "execution_count": null,
   "metadata": {},
   "outputs": [],
   "source": []
  }
 ],
 "metadata": {
  "kernelspec": {
   "display_name": "Python 3",
   "language": "python",
   "name": "python3"
  },
  "language_info": {
   "codemirror_mode": {
    "name": "ipython",
    "version": 3
   },
   "file_extension": ".py",
   "mimetype": "text/x-python",
   "name": "python",
   "nbconvert_exporter": "python",
   "pygments_lexer": "ipython3",
   "version": "3.8.3"
  }
 },
 "nbformat": 4,
 "nbformat_minor": 4
}
